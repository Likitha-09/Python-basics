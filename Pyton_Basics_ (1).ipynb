{
  "nbformat": 4,
  "nbformat_minor": 0,
  "metadata": {
    "colab": {
      "provenance": []
    },
    "kernelspec": {
      "name": "python3",
      "display_name": "Python 3"
    },
    "language_info": {
      "name": "python"
    }
  },
  "cells": [
    {
      "cell_type": "markdown",
      "source": [],
      "metadata": {
        "id": "vNt3OGEzEQpV"
      }
    },
    {
      "cell_type": "markdown",
      "source": [
        "1 What is Python, and why is it popular?\n",
        "Python is  a programming language that is easy to understand and write, and is very popular language.\n",
        "It is compatible with various programming.\n",
        "It is a procedural, object-oriented, and functional programming.\n",
        "Python is a general-purpose language, it is not specialized for any specific problems, and used to create various programmes.\n",
        "\n"
      ],
      "metadata": {
        "id": "KCr5w5iYET9Z"
      }
    },
    {
      "cell_type": "markdown",
      "source": [
        "2 What is an interpreter in Python?\n",
        "\n",
        " The interpreter analyzes the Python code line by line.\n",
        " It checks the syntax of the code to ensure it follows Python's grammar rules.\n",
        " It translates the code into bytecode, a lower-level representation of the code\n",
        "\n"
      ],
      "metadata": {
        "id": "hQuwrYF8Eec3"
      }
    },
    {
      "cell_type": "markdown",
      "source": [
        "3 What are pre-defined keywords in Python?\n",
        "\n",
        "In pyton pre-defined are case sensitive and Keywords cannot be used as names for variables, functions, and classes.\n"
      ],
      "metadata": {
        "id": "1xQzQgMAFoaI"
      }
    },
    {
      "cell_type": "markdown",
      "source": [
        "4 Can keywords be used as variable names?\n",
        "\n",
        "keywords cannot be used as variable, because keyword is case sensitive.\n"
      ],
      "metadata": {
        "id": "3V-rqjzQGygQ"
      }
    },
    {
      "cell_type": "markdown",
      "source": [
        "5 What is mutability in Python?\n",
        "\n",
        "Mutability is a objects can be changeble ot modified is know as mutability.\n",
        "Mutable objects are lists and dictionaries.\n"
      ],
      "metadata": {
        "id": "Ma5kQVgEHPX-"
      }
    },
    {
      "cell_type": "markdown",
      "source": [
        "6 Why are lists mutable, but tuples are immutable?\n",
        "\n",
        "The list contains square brackets can be changed and modified. While tuples have parenthesis that cannot be changed or modified.\n"
      ],
      "metadata": {
        "id": "_8Wm2hEVHs-u"
      }
    },
    {
      "cell_type": "markdown",
      "source": [
        "7 What is the difference between “==” and “is” operators in Python?\n",
        "\n",
        "The == operator is used to compare the equal the objects,\n",
        "the 'is' operator compares location of two objects are same.\n"
      ],
      "metadata": {
        "id": "rWQCkN5DIpwm"
      }
    },
    {
      "cell_type": "markdown",
      "source": [
        "8 What are logical operators in Python?\n",
        "\n",
        "Logical operators are \"AND\" AND \"OR\".\n"
      ],
      "metadata": {
        "id": "jbBUsSinJ9QU"
      }
    },
    {
      "cell_type": "markdown",
      "source": [
        "9 What is type casting in Python?\n",
        "\n",
        "Type casting is type of conversion and it is process of changing the data type value. performing arthematic operations, and input/output operations."
      ],
      "metadata": {
        "id": "mgm-Y_BnKMbt"
      }
    },
    {
      "cell_type": "markdown",
      "source": [
        "10 What is the difference between implicit and explicit type casting?\n",
        "\n",
        "The difference between the implicit automatically converts data types to perform operations.\n",
        "Where as explicit data type uses built in functions.\n"
      ],
      "metadata": {
        "id": "lvW108CoKyIW"
      }
    },
    {
      "cell_type": "markdown",
      "source": [
        "11 What is the purpose of conditional statements in Python?\n",
        "\n",
        "Conditional statements are used evaluate one or more conditions. The is also used to control the flow of execution on the outcome of logical expressions loops.\n"
      ],
      "metadata": {
        "id": "jg9C9ZmkMPdF"
      }
    },
    {
      "cell_type": "markdown",
      "source": [
        "12 How does the elif statement work?\n",
        "\n",
        "It is used check the multiple conditional statements.\n",
        "I the first condition is false, it moves on to the next “elif” statement to check if that condition is true.\n"
      ],
      "metadata": {
        "id": "MiwlDCcZM6Ns"
      }
    },
    {
      "cell_type": "markdown",
      "source": [
        "13  What is the difference between for and while loops?\n",
        "\n",
        " The difference between for loop and while loop. While loop is repeats the block of code until the condition is satisfied. For loop Iterates over a sequence, such as a list, tuple, or string.\n",
        ""
      ],
      "metadata": {
        "id": "Tcqo4C16NVJM"
      }
    },
    {
      "cell_type": "markdown",
      "source": [
        "14  Describe a scenario where a while loop is more suitable than a for loop?\n",
        "\n",
        "While loop is exceutes a block of code until the condition is met. Where as for loop is you can the ahead the how many times you can run the code.\n",
        "Right angle traingle is used for while and for loop. For loop is more effcient to exceute the code."
      ],
      "metadata": {
        "id": "-n180o47OJpk"
      }
    },
    {
      "cell_type": "markdown",
      "source": [
        "#PRACTICAL QUESTIONS\n"
      ],
      "metadata": {
        "id": "acU2L7iGS_Yz"
      }
    },
    {
      "cell_type": "code",
      "source": [
        "#Write a Python program to print \"Hello, World!\n",
        "print(\"Hello world!\")"
      ],
      "metadata": {
        "colab": {
          "base_uri": "https://localhost:8080/"
        },
        "id": "zOe9uJ07TN_y",
        "outputId": "9eb98861-86a6-4815-f057-e97c96a32f85"
      },
      "execution_count": 7,
      "outputs": [
        {
          "output_type": "stream",
          "name": "stdout",
          "text": [
            "Hello world!\n"
          ]
        }
      ]
    },
    {
      "cell_type": "code",
      "source": [
        "#Write a Python program that displays your name and age\n",
        "\n",
        "name = input('enter your name')\n",
        "age  = input('enter your age')\n",
        "result = \"my name is {} and i am {} years old\".format(name, age)\n",
        "print (result)"
      ],
      "metadata": {
        "id": "gNi0Z5hTVOSC",
        "outputId": "c785182f-4f97-44a8-ea46-29ad63d6a38d",
        "colab": {
          "base_uri": "https://localhost:8080/"
        }
      },
      "execution_count": 11,
      "outputs": [
        {
          "output_type": "stream",
          "name": "stdout",
          "text": [
            "enter your nameRaju\n",
            "enter your age40\n",
            "my name is Raju and i am 40 years old\n"
          ]
        }
      ]
    },
    {
      "cell_type": "code",
      "source": [
        "#Write code to print all the pre-defined keywords in Python using the keyword library\n",
        "keywords = keyword.kwlist\n",
        "print(\"Python Keywords:\")\n",
        "for kw in keywords:\n",
        "    print(kw)"
      ],
      "metadata": {
        "id": "o9iTJNZdZlGr",
        "outputId": "f7ffd7e1-af83-42b9-f1a2-ed92cbbe5162",
        "colab": {
          "base_uri": "https://localhost:8080/"
        }
      },
      "execution_count": 73,
      "outputs": [
        {
          "output_type": "stream",
          "name": "stdout",
          "text": [
            "Python Keywords:\n",
            "False\n",
            "None\n",
            "True\n",
            "and\n",
            "as\n",
            "assert\n",
            "async\n",
            "await\n",
            "break\n",
            "class\n",
            "continue\n",
            "def\n",
            "del\n",
            "elif\n",
            "else\n",
            "except\n",
            "finally\n",
            "for\n",
            "from\n",
            "global\n",
            "if\n",
            "import\n",
            "in\n",
            "is\n",
            "lambda\n",
            "nonlocal\n",
            "not\n",
            "or\n",
            "pass\n",
            "raise\n",
            "return\n",
            "try\n",
            "while\n",
            "with\n",
            "yield\n"
          ]
        }
      ]
    },
    {
      "cell_type": "code",
      "source": [
        "#Write a program that checks if a given word is a Python keyword\n",
        "\n",
        "import keyword\n",
        "\n",
        "word = input(\"Enter a word: \")\n",
        "\n",
        "if keyword.iskeyword(word):\n",
        "    print(f\"{word} is a Python keyword.\")\n",
        "else:\n",
        "    print(f\"{word} is not a Python keyword.\")\n",
        ""
      ],
      "metadata": {
        "id": "-X7Jlq7MZpWk",
        "outputId": "b221ff1c-6fb1-4333-fdc5-7c421e63fefe",
        "colab": {
          "base_uri": "https://localhost:8080/"
        }
      },
      "execution_count": 53,
      "outputs": [
        {
          "output_type": "stream",
          "name": "stdout",
          "text": [
            "Enter a word: 5\n",
            "5 is not a Python keyword.\n"
          ]
        }
      ]
    },
    {
      "cell_type": "code",
      "source": [
        "#Create a list and tuple in Python, and demonstrate how attempting to change an element works differently\n",
        "\n",
        "my_list = [1, 2, 3, 4, 5,\"flowers\"]\n",
        "print(\"Original List:\", my_list)\n",
        "\n",
        "# Modifying an element in the list\n",
        "my_list[2] = 30\n",
        "print(\"Modified List:\", my_list)\n",
        "\n",
        "# Creating a tuple\n",
        "my_tuple = (1, 2, 3, 4, 5)\n",
        "print(\"Original Tuple:\", my_tuple)\n",
        "my_list = [1, 2, 3, 4, 5]\n",
        "print(\"Original List:\", my_list)\n",
        "# Attempting to modify an element in the tuple (This will raise an error)\n",
        "try:\n",
        "    my_tuple[2] = 30  # This is not allowed\n",
        "except TypeError as e:\n",
        "    print(\"Error:\", e)\n",
        "\n"
      ],
      "metadata": {
        "id": "PIIOkNyOZunb",
        "outputId": "57db50c4-3ebd-42a1-a69a-422d0b1263c7",
        "colab": {
          "base_uri": "https://localhost:8080/"
        }
      },
      "execution_count": 21,
      "outputs": [
        {
          "output_type": "stream",
          "name": "stdout",
          "text": [
            "Original List: [1, 2, 3, 4, 5, 'flowers']\n",
            "Modified List: [1, 2, 30, 4, 5, 'flowers']\n",
            "Original Tuple: (1, 2, 3, 4, 5)\n",
            "Original List: [1, 2, 3, 4, 5]\n",
            "Error: 'tuple' object does not support item assignment\n"
          ]
        }
      ]
    },
    {
      "cell_type": "code",
      "source": [
        "#Write a function to demonstrate the behavior of mutable and immutable arguments\n",
        "def modify(immutable, mutable):\n",
        "    immutable += 10\n",
        "    mutable.append(100)\n",
        "\n",
        "num = 50\n",
        "my_list = [1, 2, 3]\n",
        "print(\"a:\", num, my_list)\n",
        "modify(num, my_list)"
      ],
      "metadata": {
        "id": "c8OxaY_fcW5p",
        "outputId": "7cbe6960-267d-4425-dea9-abd61251a6a1",
        "colab": {
          "base_uri": "https://localhost:8080/"
        }
      },
      "execution_count": 25,
      "outputs": [
        {
          "output_type": "stream",
          "name": "stdout",
          "text": [
            "a: 50 [1, 2, 3]\n"
          ]
        }
      ]
    },
    {
      "cell_type": "code",
      "source": [
        "#7TH QUESTION IS REPEATED TWICE"
      ],
      "metadata": {
        "id": "YdpeGbBLrwym"
      },
      "execution_count": null,
      "outputs": []
    },
    {
      "cell_type": "code",
      "source": [
        "#Write a program to demonstrate the use of logical operators\n",
        "\n",
        "x = 10\n",
        "y = 5\n",
        "\n",
        "print(\"x > 5 and y < 10:\", x > 5 and y < 10)\n",
        "print(\"x < 5 or y < 10:\", x < 5 or y < 10)\n",
        "print(\"not(x > y):\", not (x > y))"
      ],
      "metadata": {
        "id": "sx3uD5sRdpFY",
        "outputId": "a0ef2ab7-23f3-42db-da53-37e8423abc6d",
        "colab": {
          "base_uri": "https://localhost:8080/"
        }
      },
      "execution_count": 29,
      "outputs": [
        {
          "output_type": "stream",
          "name": "stdout",
          "text": [
            "x > 5 and y < 10: True\n",
            "x < 5 or y < 10: True\n",
            "not(x > y): False\n"
          ]
        }
      ]
    },
    {
      "cell_type": "code",
      "source": [
        "#Write a Python program to convert user input from string to integer, float, and boolean types\n",
        "user_input = input(\"Enter a value: \")\n",
        "\n",
        "# Convert to integer\n",
        "try:\n",
        "    int_value = int(user_input)\n",
        "except ValueError:\n",
        "    int_value = \"Cannot convert to integer\"\n",
        "# Convert to float\n",
        "try:\n",
        "    float_value = float(user_input)\n",
        "except ValueError:\n",
        "    float_value = \"Cannot convert to float\"\n",
        "\n",
        "# Convert to boolean\n",
        "bool_value = bool(user_input)\n",
        "print(\"Integer:\", int_value)\n",
        "print(\"Float:\", float_value)\n",
        "print(\"Boolean:\", bool_value)"
      ],
      "metadata": {
        "id": "7O-D0ZCqibJn",
        "outputId": "8cedd2b0-5082-4eaf-c6a2-17682b0f1695",
        "colab": {
          "base_uri": "https://localhost:8080/"
        }
      },
      "execution_count": 40,
      "outputs": [
        {
          "output_type": "stream",
          "name": "stdout",
          "text": [
            "Enter a value: 5\n",
            "Integer: 5\n",
            "Float: 5.0\n",
            "Boolean: True\n"
          ]
        }
      ]
    },
    {
      "cell_type": "code",
      "source": [
        "#Write code to demonstrate type casting with list elements\n",
        "my_list = [\"1\", \"2\", \"3\", \"4\", \"5\"]\n",
        "\n",
        "# Convert elements to integers\n",
        "int_list = [int(x) for x in my_list]\n",
        "print(\"Integer List:\", int_list)\n",
        "\n",
        "# Convert elements to floats\n",
        "float_list = [float(x) for x in my_list]\n",
        "print(\"Float List:\", float_list)\n",
        "\n",
        "# Convert elements to boolean\n",
        "bool_list = [bool(x) for x in my_list]\n",
        "print(\"Boolean List:\", bool_list)\n"
      ],
      "metadata": {
        "id": "6ajo26X-jZjP",
        "outputId": "de1ece29-5cc9-4145-ef09-4f36c3de3c11",
        "colab": {
          "base_uri": "https://localhost:8080/"
        }
      },
      "execution_count": 48,
      "outputs": [
        {
          "output_type": "stream",
          "name": "stdout",
          "text": [
            "Integer List: [1, 2, 3, 4, 5]\n",
            "Float List: [1.0, 2.0, 3.0, 4.0, 5.0]\n",
            "Boolean List: [True, True, True, True, True]\n"
          ]
        }
      ]
    },
    {
      "cell_type": "code",
      "source": [
        " #Write a program that checks if a number is positive, negative, or zero\n",
        " num = float(input(\"Enter a number: \"))\n",
        "\n",
        "# Check the number type\n",
        "if num > 0:\n",
        "    print(\"The number is positive.\")\n",
        "elif num < 0:\n",
        "    print(\"The number is negative.\")\n",
        "else:\n",
        "    print(\"The number is zero.\")\n",
        ""
      ],
      "metadata": {
        "id": "oidJeestor52",
        "outputId": "f7a81008-17b3-4c41-f39e-1590d05d8d2b",
        "colab": {
          "base_uri": "https://localhost:8080/"
        }
      },
      "execution_count": 57,
      "outputs": [
        {
          "output_type": "stream",
          "name": "stdout",
          "text": [
            "Enter a number: 5\n",
            "The number is positive.\n"
          ]
        }
      ]
    },
    {
      "cell_type": "code",
      "source": [
        "#Write a for loop to print numbers from 1 to 10\n",
        "\n",
        "for i in range(1,11):\n",
        "  print(i)"
      ],
      "metadata": {
        "id": "78-Au7W8ox9N",
        "outputId": "9225a737-5112-441d-9f33-e5b16b56ff64",
        "colab": {
          "base_uri": "https://localhost:8080/"
        }
      },
      "execution_count": 58,
      "outputs": [
        {
          "output_type": "stream",
          "name": "stdout",
          "text": [
            "1\n",
            "2\n",
            "3\n",
            "4\n",
            "5\n",
            "6\n",
            "7\n",
            "8\n",
            "9\n",
            "10\n"
          ]
        }
      ]
    },
    {
      "cell_type": "code",
      "source": [
        "#Write a Python program to find the sum of all even numbers between 1 and 500\n",
        "\n",
        "for i in range(1,500):\n",
        "  if i%2==0 :\n",
        "    print(i)"
      ],
      "metadata": {
        "id": "WiCrDasOpIMt",
        "outputId": "478cd0ff-bad0-4532-b843-f5df217dd00b",
        "colab": {
          "base_uri": "https://localhost:8080/"
        }
      },
      "execution_count": 63,
      "outputs": [
        {
          "output_type": "stream",
          "name": "stdout",
          "text": [
            "2\n",
            "4\n",
            "6\n",
            "8\n",
            "10\n",
            "12\n",
            "14\n",
            "16\n",
            "18\n",
            "20\n",
            "22\n",
            "24\n",
            "26\n",
            "28\n",
            "30\n",
            "32\n",
            "34\n",
            "36\n",
            "38\n",
            "40\n",
            "42\n",
            "44\n",
            "46\n",
            "48\n",
            "50\n",
            "52\n",
            "54\n",
            "56\n",
            "58\n",
            "60\n",
            "62\n",
            "64\n",
            "66\n",
            "68\n",
            "70\n",
            "72\n",
            "74\n",
            "76\n",
            "78\n",
            "80\n",
            "82\n",
            "84\n",
            "86\n",
            "88\n",
            "90\n",
            "92\n",
            "94\n",
            "96\n",
            "98\n",
            "100\n",
            "102\n",
            "104\n",
            "106\n",
            "108\n",
            "110\n",
            "112\n",
            "114\n",
            "116\n",
            "118\n",
            "120\n",
            "122\n",
            "124\n",
            "126\n",
            "128\n",
            "130\n",
            "132\n",
            "134\n",
            "136\n",
            "138\n",
            "140\n",
            "142\n",
            "144\n",
            "146\n",
            "148\n",
            "150\n",
            "152\n",
            "154\n",
            "156\n",
            "158\n",
            "160\n",
            "162\n",
            "164\n",
            "166\n",
            "168\n",
            "170\n",
            "172\n",
            "174\n",
            "176\n",
            "178\n",
            "180\n",
            "182\n",
            "184\n",
            "186\n",
            "188\n",
            "190\n",
            "192\n",
            "194\n",
            "196\n",
            "198\n",
            "200\n",
            "202\n",
            "204\n",
            "206\n",
            "208\n",
            "210\n",
            "212\n",
            "214\n",
            "216\n",
            "218\n",
            "220\n",
            "222\n",
            "224\n",
            "226\n",
            "228\n",
            "230\n",
            "232\n",
            "234\n",
            "236\n",
            "238\n",
            "240\n",
            "242\n",
            "244\n",
            "246\n",
            "248\n",
            "250\n",
            "252\n",
            "254\n",
            "256\n",
            "258\n",
            "260\n",
            "262\n",
            "264\n",
            "266\n",
            "268\n",
            "270\n",
            "272\n",
            "274\n",
            "276\n",
            "278\n",
            "280\n",
            "282\n",
            "284\n",
            "286\n",
            "288\n",
            "290\n",
            "292\n",
            "294\n",
            "296\n",
            "298\n",
            "300\n",
            "302\n",
            "304\n",
            "306\n",
            "308\n",
            "310\n",
            "312\n",
            "314\n",
            "316\n",
            "318\n",
            "320\n",
            "322\n",
            "324\n",
            "326\n",
            "328\n",
            "330\n",
            "332\n",
            "334\n",
            "336\n",
            "338\n",
            "340\n",
            "342\n",
            "344\n",
            "346\n",
            "348\n",
            "350\n",
            "352\n",
            "354\n",
            "356\n",
            "358\n",
            "360\n",
            "362\n",
            "364\n",
            "366\n",
            "368\n",
            "370\n",
            "372\n",
            "374\n",
            "376\n",
            "378\n",
            "380\n",
            "382\n",
            "384\n",
            "386\n",
            "388\n",
            "390\n",
            "392\n",
            "394\n",
            "396\n",
            "398\n",
            "400\n",
            "402\n",
            "404\n",
            "406\n",
            "408\n",
            "410\n",
            "412\n",
            "414\n",
            "416\n",
            "418\n",
            "420\n",
            "422\n",
            "424\n",
            "426\n",
            "428\n",
            "430\n",
            "432\n",
            "434\n",
            "436\n",
            "438\n",
            "440\n",
            "442\n",
            "444\n",
            "446\n",
            "448\n",
            "450\n",
            "452\n",
            "454\n",
            "456\n",
            "458\n",
            "460\n",
            "462\n",
            "464\n",
            "466\n",
            "468\n",
            "470\n",
            "472\n",
            "474\n",
            "476\n",
            "478\n",
            "480\n",
            "482\n",
            "484\n",
            "486\n",
            "488\n",
            "490\n",
            "492\n",
            "494\n",
            "496\n",
            "498\n"
          ]
        }
      ]
    },
    {
      "cell_type": "code",
      "source": [
        "#Write a program to reverse a string using a while loop\n",
        "\n",
        "string = input(\"Enter a string: \")\n",
        "reversed_string = \"\"\n",
        "index = len(string) - 1\n",
        "\n",
        "while index >= 0:\n",
        "    reversed_string += string[index]\n",
        "    index -= 1\n",
        "\n",
        "print(\"Reversed string:\", reversed_string)\n",
        "\n"
      ],
      "metadata": {
        "id": "bkx3AIwjp8i_",
        "outputId": "0a88d4d8-b08a-4644-a964-05739f89c06a",
        "colab": {
          "base_uri": "https://localhost:8080/"
        }
      },
      "execution_count": 66,
      "outputs": [
        {
          "output_type": "stream",
          "name": "stdout",
          "text": [
            "Enter a string: flower\n",
            "Reversed string: rewolf\n"
          ]
        }
      ]
    },
    {
      "cell_type": "code",
      "source": [
        "#Write a Python program to calculate the factorial of a number provided by the user using a while loop\n",
        "\n",
        "num = int(input(\"Enter a number: \"))\n",
        "factorial = 1\n",
        "i = num\n",
        "while i > 0:\n",
        "    factorial *= i\n",
        "    i -= 1\n",
        "print(f\"Factorial of {num} is: {factorial}\")"
      ],
      "metadata": {
        "id": "sQNOPEbeqc2m",
        "outputId": "f9d1342e-83a0-44c3-baa2-e72a0f72c96a",
        "colab": {
          "base_uri": "https://localhost:8080/"
        }
      },
      "execution_count": 68,
      "outputs": [
        {
          "output_type": "stream",
          "name": "stdout",
          "text": [
            "Enter a number: 5\n",
            "Factorial of 5 is: 120\n"
          ]
        }
      ]
    }
  ]
}